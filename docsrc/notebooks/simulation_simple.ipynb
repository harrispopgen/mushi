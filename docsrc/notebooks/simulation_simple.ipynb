{
 "cells": [
  {
   "cell_type": "markdown",
   "metadata": {},
   "source": [
    "Simple simulation\n",
    "==\n",
    "\n",
    "A notebook for testing `mushi`'s ability to invert data simulated under the forward model"
   ]
  },
  {
   "cell_type": "code",
   "execution_count": null,
   "metadata": {
    "slideshow": {
     "slide_type": "slide"
    }
   },
   "outputs": [],
   "source": [
    "import mushi\n",
    "import mushi.composition as cmp\n",
    "\n",
    "import numpy as np\n",
    "import matplotlib as mpl\n",
    "from matplotlib import pyplot as plt\n",
    "from matplotlib.lines import Line2D\n",
    "from scipy.special import expit\n",
    "import stdpopsim"
   ]
  },
  {
   "cell_type": "markdown",
   "metadata": {
    "slideshow": {
     "slide_type": "slide"
    }
   },
   "source": [
    "### Time grid"
   ]
  },
  {
   "cell_type": "code",
   "execution_count": null,
   "metadata": {},
   "outputs": [],
   "source": [
    "change_points = np.logspace(0, np.log10(100000), 100)\n",
    "t = np.concatenate((np.array([0]), change_points))"
   ]
  },
  {
   "cell_type": "markdown",
   "metadata": {
    "slideshow": {
     "slide_type": "slide"
    }
   },
   "source": [
    "### Define true demographic history"
   ]
  },
  {
   "cell_type": "code",
   "execution_count": null,
   "metadata": {
    "slideshow": {
     "slide_type": "-"
    }
   },
   "outputs": [],
   "source": [
    "species = stdpopsim.get_species(\"HomSap\")\n",
    "model = species.get_demographic_model(\"Zigzag_1S14\")\n",
    "ddb = model.get_demography_debugger()\n",
    "eta_true = mushi.eta(change_points,\n",
    "                     1 / ddb.coalescence_rate_trajectory(steps=t,\n",
    "                                                         num_samples=[2],\n",
    "                                                         double_step_validation=False)[0])\n",
    "\n",
    "plt.figure(figsize=(3.5, 3.5))\n",
    "eta_true.plot(c='k');"
   ]
  },
  {
   "cell_type": "markdown",
   "metadata": {
    "slideshow": {
     "slide_type": "slide"
    }
   },
   "source": [
    "### Mutation rate history $\\mu(t)$\n",
    "A 96 dimensional history with a mixture of two latent signature: constant and pulse."
   ]
  },
  {
   "cell_type": "code",
   "execution_count": null,
   "metadata": {
    "slideshow": {
     "slide_type": "-"
    }
   },
   "outputs": [],
   "source": [
    "flat = np.ones_like(t)\n",
    "pulse = expit(.1 * (t - 100)) - expit(.01 * (t - 2000))\n",
    "ramp = expit(-.01 * (t - 100)) \n",
    "cols = 96\n",
    "Z = np.zeros((len(t), cols))\n",
    "mu0 = 1\n",
    "np.random.seed(0)\n",
    "\n",
    "Z[:, 0] = mu0 * (1 * flat + .5 * pulse)\n",
    "\n",
    "Z[:, 1] = mu0 * (.5 * flat + .4 * ramp)\n",
    "\n",
    "for col in range(2, cols):\n",
    "    scale = np.random.lognormal(-.2, .3)\n",
    "    pulse_weight = 5 if col == 0 else 0\n",
    "    Z[:, col] = mu0 * scale * flat\n",
    "\n",
    "mu_true = mushi.mu(change_points, Z)\n",
    "\n",
    "plt.figure(figsize=(4, 4))\n",
    "mu_true.plot(range(2, cols), alpha=0.1, lw=2, c='C0', clr=True)\n",
    "mu_true.plot((0,), alpha=0.75, lw=3, c='C1', clr=True)\n",
    "mu_true.plot((1,), alpha=0.75, lw=3, c='C2', clr=True);"
   ]
  },
  {
   "cell_type": "markdown",
   "metadata": {},
   "source": [
    "Estimate the total mutation rate using $t=0$"
   ]
  },
  {
   "cell_type": "code",
   "execution_count": null,
   "metadata": {},
   "outputs": [],
   "source": [
    "mu0 = mu_true.Z[0, :].sum()\n",
    "print(mu0)"
   ]
  },
  {
   "cell_type": "markdown",
   "metadata": {
    "slideshow": {
     "slide_type": "slide"
    }
   },
   "source": [
    "## Simulate a $k$-SFS\n",
    "- We'll sample 200 haplotypes\n",
    "- note that this simulation will have a slightly varying total mutation rate, due to the pulse"
   ]
  },
  {
   "cell_type": "code",
   "execution_count": null,
   "metadata": {
    "scrolled": false,
    "slideshow": {
     "slide_type": "slide"
    }
   },
   "outputs": [],
   "source": [
    "n = 200\n",
    "ksfs = mushi.kSFS(n=n)\n",
    "ksfs.simulate(eta_true, mu_true, r=0.02, seed=1)\n",
    "\n",
    "plt.figure(figsize=(4, 3))\n",
    "ksfs.plot_total(kwargs=dict(ls='', marker='.'))\n",
    "plt.xscale('log')\n",
    "plt.yscale('log')\n",
    "\n",
    "plt.figure(figsize=(4, 3))\n",
    "ksfs.plot(range(2, cols), clr=True, kwargs=dict(alpha=0.1, ls='', marker='.', c='C0'))\n",
    "ksfs.plot((0,), clr=True, kwargs=dict(alpha=0.75, ls='', marker='o', c='C1'))\n",
    "ksfs.plot((1,), clr=True, kwargs=dict(alpha=0.75, ls='', marker='o', c='C2'))"
   ]
  },
  {
   "cell_type": "markdown",
   "metadata": {},
   "source": [
    "Number of segregating sites"
   ]
  },
  {
   "cell_type": "code",
   "execution_count": null,
   "metadata": {},
   "outputs": [],
   "source": [
    "ksfs.X.sum()"
   ]
  },
  {
   "cell_type": "markdown",
   "metadata": {
    "slideshow": {
     "slide_type": "slide"
    }
   },
   "source": [
    "### TMRCA CDF"
   ]
  },
  {
   "cell_type": "code",
   "execution_count": null,
   "metadata": {},
   "outputs": [],
   "source": [
    "plt.figure(figsize=(3.5, 3.5))\n",
    "plt.plot(change_points, ksfs.tmrca_cdf(eta_true))\n",
    "plt.xlabel('$t$')\n",
    "plt.ylabel('TMRCA CDF')\n",
    "plt.ylim([0, 1])\n",
    "plt.xscale('log')\n",
    "plt.tight_layout()"
   ]
  },
  {
   "cell_type": "markdown",
   "metadata": {},
   "source": [
    "### Infer $\\eta(t)$ and $\\boldsymbol\\mu(t)$"
   ]
  },
  {
   "cell_type": "markdown",
   "metadata": {},
   "source": [
    "Run inference"
   ]
  },
  {
   "cell_type": "code",
   "execution_count": null,
   "metadata": {
    "scrolled": false
   },
   "outputs": [],
   "source": [
    "for folded in (True, False):\n",
    "    print(f'folded = {folded}')\n",
    "    ksfs.clear_eta()\n",
    "    ksfs.clear_mu()\n",
    "    ksfs.r = None\n",
    "\n",
    "    # define regularization parameters and convergence criteria\n",
    "    convergence = dict(tol=0, max_iter=1000)\n",
    "    regularization_eta = dict(alpha_tv=2e0, alpha_spline=1e3, alpha_ridge=1e-4)\n",
    "\n",
    "    ksfs.infer_history(change_points, mu0, infer_mu=False,\n",
    "                       **regularization_eta, **convergence, verbose=True, folded=folded)\n",
    "    if ksfs.r is not None:\n",
    "        print(f'inferred ancestral misidentification rate: {ksfs.r:.3f}')\n",
    "    plt.figure(figsize=(8, 4))\n",
    "    plt.subplot(121)\n",
    "    ksfs.plot_total(kwargs=dict(ls='', marker='o', ms=5, c='k', alpha=0.75),\n",
    "                    line_kwargs=dict(c='C0', alpha=0.75, lw=3),\n",
    "                    fill_kwargs=dict(color='C0', alpha=0.1),\n",
    "                    folded=folded)\n",
    "    plt.xscale('log')\n",
    "    plt.yscale('log')\n",
    "    if folded:\n",
    "        plt.title('folded SFS')\n",
    "    else:\n",
    "        plt.title('SFS')\n",
    "    plt.subplot(122)\n",
    "    eta_true.plot(c='k', lw=2, label='true')\n",
    "    ksfs.eta.plot(lw=3, alpha=0.75, label='inferred')\n",
    "    plt.xlim(1e1, None)\n",
    "    plt.legend()\n",
    "    plt.tight_layout()\n",
    "    plt.show()"
   ]
  },
  {
   "cell_type": "code",
   "execution_count": null,
   "metadata": {},
   "outputs": [],
   "source": [
    "ksfs.clear_mu()\n",
    "\n",
    "# define regularization parameters and convergence criteria\n",
    "regularization_mu = dict(hard=True, beta_rank=1e2, beta_tv=3e1, beta_spline=3e2, beta_ridge=1e-4)\n",
    "convergence = dict(tol=0, max_iter=1000)\n",
    "\n",
    "ksfs.infer_history(change_points, mu0, infer_eta=False,\n",
    "                   **regularization_mu, **convergence, verbose=True)\n",
    "\n",
    "plt.figure(figsize=(9, 3))\n",
    "\n",
    "plt.subplot(131)\n",
    "ksfs.plot(range(2, cols), clr=True, kwargs=dict(alpha=0.1, ls='', marker='.', ms=5, mfc='none', c='C0', rasterized=True),\n",
    "          line_kwargs=dict(alpha=0.1, lw=1, c='C0', rasterized=True))\n",
    "ksfs.plot((0,), clr=True, kwargs=dict(alpha=0.75, ls='', marker='.', ms=10, mfc='none', c='C1'),\n",
    "          line_kwargs=dict(alpha=0.75, lw=2, c='C1'))\n",
    "ksfs.plot((1,), clr=True, kwargs=dict(alpha=0.75, ls='', marker='.', ms=10, mfc='none', c='C2'),\n",
    "          line_kwargs=dict(alpha=0.75, lw=2, c='C2'))\n",
    "\n",
    "plt.subplot(132)\n",
    "mu_true.plot(range(2, cols), alpha=0.1, lw=2, c='C0', clr=True, rasterized=True)\n",
    "ksfs.mu.plot(range(2, cols), alpha=0.1, lw=3, ls='--', c='C0', clr=True, rasterized=True)\n",
    "mu_true.plot((0,), alpha=0.75, lw=2, c='C1', clr=True)\n",
    "ksfs.mu.plot((0,), alpha=0.75, lw=3, ls='--', c='C1', clr=True)\n",
    "mu_true.plot((1,), alpha=0.75, lw=2, c='C2', clr=True)\n",
    "ksfs.mu.plot((1,), alpha=0.75, lw=3, ls='--', c='C2', clr=True)\n",
    "\n",
    "plt.subplot(133)\n",
    "σ = np.linalg.svd(cmp.ilr(ksfs.mu.Z), compute_uv=False)\n",
    "x = np.arange(1, len(σ) + 1)\n",
    "plt.scatter(x, σ)\n",
    "plt.plot(x, σ, 'ko', ms=5, mfc='none', mew=.1)\n",
    "plt.xscale('log')\n",
    "plt.yscale('log')\n",
    "plt.xlabel('singular value rank')\n",
    "plt.ylabel('singular value')\n",
    "plt.tight_layout()"
   ]
  },
  {
   "cell_type": "code",
   "execution_count": null,
   "metadata": {},
   "outputs": [],
   "source": []
  }
 ],
 "metadata": {
  "celltoolbar": "Slideshow",
  "kernelspec": {
   "display_name": "Python 3",
   "language": "python",
   "name": "python3"
  },
  "language_info": {
   "codemirror_mode": {
    "name": "ipython",
    "version": 3
   },
   "file_extension": ".py",
   "mimetype": "text/x-python",
   "name": "python",
   "nbconvert_exporter": "python",
   "pygments_lexer": "ipython3",
   "version": "3.7.8"
  }
 },
 "nbformat": 4,
 "nbformat_minor": 2
}
