{
 "cells": [
  {
   "cell_type": "markdown",
   "metadata": {},
   "source": [
    "Testing with simulations\n",
    "==\n",
    "\n",
    "A notebook for testing `mushi`'s ability to invert data simulated under the forward model"
   ]
  },
  {
   "cell_type": "code",
   "execution_count": null,
   "metadata": {
    "slideshow": {
     "slide_type": "slide"
    }
   },
   "outputs": [],
   "source": [
    "import mushi\n",
    "\n",
    "import numpy as np\n",
    "import matplotlib as mpl\n",
    "from matplotlib import pyplot as plt\n",
    "from matplotlib.lines import Line2D\n",
    "from scipy.special import expit\n",
    "import stdpopsim"
   ]
  },
  {
   "cell_type": "markdown",
   "metadata": {
    "slideshow": {
     "slide_type": "slide"
    }
   },
   "source": [
    "### Time grid"
   ]
  },
  {
   "cell_type": "code",
   "execution_count": null,
   "metadata": {},
   "outputs": [],
   "source": [
    "change_points = np.logspace(0, np.log10(100000), 200)\n",
    "t = np.concatenate((np.array([0]), change_points))"
   ]
  },
  {
   "cell_type": "markdown",
   "metadata": {
    "slideshow": {
     "slide_type": "slide"
    }
   },
   "source": [
    "### Define true demographic history"
   ]
  },
  {
   "cell_type": "code",
   "execution_count": null,
   "metadata": {
    "slideshow": {
     "slide_type": "-"
    }
   },
   "outputs": [],
   "source": [
    "species = stdpopsim.get_species(\"HomSap\")\n",
    "model = species.get_demographic_model(\"Zigzag_1S14\")\n",
    "ddb = model.get_demography_debugger()\n",
    "eta_true = mushi.eta(change_points,\n",
    "                     1 / ddb.coalescence_rate_trajectory(steps=t,\n",
    "                                                         num_samples=[2],\n",
    "                                                         double_step_validation=False)[0])\n",
    "\n",
    "plt.figure(figsize=(3.5, 3.5))\n",
    "eta_true.plot(c='k');"
   ]
  },
  {
   "cell_type": "markdown",
   "metadata": {
    "slideshow": {
     "slide_type": "slide"
    }
   },
   "source": [
    "### Mutation rate history $\\mu(t)$\n",
    "A 96 dimensional history with a mixture of two latent signature: constant and pulse."
   ]
  },
  {
   "cell_type": "code",
   "execution_count": null,
   "metadata": {
    "slideshow": {
     "slide_type": "-"
    }
   },
   "outputs": [],
   "source": [
    "flat = np.ones_like(t)\n",
    "pulse = expit(.1 * (t - 100)) - expit(.01 * (t - 2000))\n",
    "ramp = expit(-.01 * (t - 100)) \n",
    "cols = 3\n",
    "Z = np.zeros((len(t), cols))\n",
    "mu0 = 1\n",
    "np.random.seed(0)\n",
    "\n",
    "Z[:, 0] = mu0 * (1 * flat + .5 * pulse)\n",
    "Z[:, 1] = mu0 * (.5 * flat + .4 * ramp)\n",
    "Z[:, 2] = 94 * mu0 * flat\n",
    "\n",
    "mutation_types = ['TCC>TTC', 'GAA>GGA', None]\n",
    "\n",
    "mu_true = mushi.mu(change_points, Z, mutation_types)\n",
    "\n",
    "plt.figure(figsize=(4, 4))\n",
    "mu_true.plot(('TCC>TTC',), alpha=0.75, lw=3, clr=False)\n",
    "mu_true.plot(('GAA>GGA',), alpha=0.75, lw=3, clr=False);"
   ]
  },
  {
   "cell_type": "markdown",
   "metadata": {},
   "source": [
    "Estimate the total mutation rate using $t=0$"
   ]
  },
  {
   "cell_type": "code",
   "execution_count": null,
   "metadata": {},
   "outputs": [],
   "source": [
    "mu0 = mu_true.Z[0, :].sum()\n",
    "print(mu0)"
   ]
  },
  {
   "cell_type": "markdown",
   "metadata": {
    "slideshow": {
     "slide_type": "slide"
    }
   },
   "source": [
    "## Simulate a $k$-SFS\n",
    "- We'll sample 200 haplotypes\n",
    "- note that this simulation will have a slightly varying total mutation rate"
   ]
  },
  {
   "cell_type": "code",
   "execution_count": null,
   "metadata": {
    "scrolled": false,
    "slideshow": {
     "slide_type": "slide"
    }
   },
   "outputs": [],
   "source": [
    "n = 200\n",
    "ksfs = mushi.kSFS(n=n)\n",
    "ksfs.simulate(eta_true, mu_true, r=0.02, seed=1)\n",
    "\n",
    "plt.figure(figsize=(4, 3))\n",
    "ksfs.plot_total(kwargs=dict(ls='', marker='.'))\n",
    "plt.xscale('log')\n",
    "plt.yscale('log')\n",
    "\n",
    "plt.figure(figsize=(4, 3))\n",
    "ksfs.plot(('TCC>TTC',), clr=True, kwargs=dict(alpha=0.75, ls='', marker='o'))\n",
    "ksfs.plot(('GAA>GGA',), clr=True, kwargs=dict(alpha=0.75, ls='', marker='o'))"
   ]
  },
  {
   "cell_type": "markdown",
   "metadata": {},
   "source": [
    "Number of segregating sites"
   ]
  },
  {
   "cell_type": "code",
   "execution_count": null,
   "metadata": {},
   "outputs": [],
   "source": [
    "ksfs.X.sum()"
   ]
  },
  {
   "cell_type": "markdown",
   "metadata": {
    "slideshow": {
     "slide_type": "slide"
    }
   },
   "source": [
    "### TMRCA CDF"
   ]
  },
  {
   "cell_type": "code",
   "execution_count": null,
   "metadata": {},
   "outputs": [],
   "source": [
    "plt.figure(figsize=(3.5, 3.5))\n",
    "plt.plot(change_points, ksfs.tmrca_cdf(eta_true))\n",
    "plt.xlabel('$t$')\n",
    "plt.ylabel('TMRCA CDF')\n",
    "plt.ylim([0, 1])\n",
    "plt.xscale('log')\n",
    "plt.tight_layout()"
   ]
  },
  {
   "cell_type": "markdown",
   "metadata": {},
   "source": [
    "## Inference\n",
    "\n",
    "### convergence parameters and time grid"
   ]
  },
  {
   "cell_type": "code",
   "execution_count": null,
   "metadata": {},
   "outputs": [],
   "source": [
    "convergence = dict(tol=0, max_iter=100, trend_kwargs=dict(max_iter=20))\n",
    "pts = 100"
   ]
  },
  {
   "cell_type": "markdown",
   "metadata": {},
   "source": [
    "### Infer $\\eta(t)$"
   ]
  },
  {
   "cell_type": "code",
   "execution_count": null,
   "metadata": {
    "scrolled": false
   },
   "outputs": [],
   "source": [
    "trend_penalties = ((0, 1e1), (1, 1e0))\n",
    "\n",
    "folded = False\n",
    "\n",
    "ksfs.clear_eta()\n",
    "ksfs.clear_mu()\n",
    "ksfs.r = None\n",
    "\n",
    "ksfs.infer_eta(mu0,\n",
    "               *trend_penalties,\n",
    "               ridge_penalty=1e-4,\n",
    "               pts=pts, **convergence, verbose=True, folded=folded)\n",
    "\n",
    "if ksfs.r is not None:\n",
    "    print(f'inferred ancestral misidentification rate: {ksfs.r:.3f}')\n",
    "\n",
    "plt.figure(figsize=(8, 4))\n",
    "\n",
    "plt.subplot(121)\n",
    "ksfs.plot_total(kwargs=dict(ls='', marker='o', ms=5, c='k', alpha=0.75),\n",
    "                line_kwargs=dict(c='C0', alpha=0.75, lw=3),\n",
    "                fill_kwargs=dict(color='C0', alpha=0.1),\n",
    "                folded=folded)\n",
    "plt.xscale('log')\n",
    "plt.yscale('log')\n",
    "\n",
    "plt.subplot(122)\n",
    "eta_true.plot(c='k', lw=2, label='true')\n",
    "ksfs.eta.plot(lw=3, alpha=0.75, label='inferred')\n",
    "plt.legend()\n",
    "plt.tight_layout()\n",
    "plt.show()"
   ]
  },
  {
   "cell_type": "markdown",
   "metadata": {
    "slideshow": {
     "slide_type": "-"
    }
   },
   "source": [
    "### Infer $\\boldsymbol\\mu(t)$"
   ]
  },
  {
   "cell_type": "code",
   "execution_count": null,
   "metadata": {
    "scrolled": false
   },
   "outputs": [],
   "source": [
    "ksfs.clear_mu()\n",
    "\n",
    "trend_penalties = ((0, 2e2), (3, 1e-1))\n",
    "\n",
    "ksfs.infer_mush(*trend_penalties, ridge_penalty=1e-4,\n",
    "                **convergence, verbose=True)\n",
    "\n",
    "plt.figure(figsize=(8, 4))\n",
    "\n",
    "plt.subplot(121)\n",
    "ksfs.plot(('TCC>TTC',), clr=True, kwargs=dict(alpha=0.75, ls='', marker='.', ms=10, mfc='none', c='C0'),\n",
    "          line_kwargs=dict(alpha=0.75, lw=2, c='C0'))\n",
    "ksfs.plot(('GAA>GGA',), clr=True, kwargs=dict(alpha=0.75, ls='', marker='.', ms=10, mfc='none', c='C1'),\n",
    "          line_kwargs=dict(alpha=0.75, lw=2, c='C1'))\n",
    "\n",
    "plt.subplot(122)\n",
    "mu_true.plot(('TCC>TTC',), alpha=0.75, lw=2, c='C0')\n",
    "ksfs.mu.plot(('TCC>TTC',), alpha=0.75, lw=3, ls='--', c='C0')\n",
    "mu_true.plot(('GAA>GGA',), alpha=0.75, lw=2, c='C1')\n",
    "ksfs.mu.plot(('GAA>GGA',), alpha=0.75, lw=3, ls='--', c='C1')\n",
    "plt.tight_layout()\n",
    "plt.show()"
   ]
  },
  {
   "cell_type": "code",
   "execution_count": null,
   "metadata": {},
   "outputs": [],
   "source": []
  }
 ],
 "metadata": {
  "celltoolbar": "Slideshow",
  "kernelspec": {
   "display_name": "Python 3",
   "language": "python",
   "name": "python3"
  },
  "language_info": {
   "codemirror_mode": {
    "name": "ipython",
    "version": 3
   },
   "file_extension": ".py",
   "mimetype": "text/x-python",
   "name": "python",
   "nbconvert_exporter": "python",
   "pygments_lexer": "ipython3",
   "version": "3.7.6"
  }
 },
 "nbformat": 4,
 "nbformat_minor": 2
}
