{
 "cells": [
  {
   "cell_type": "markdown",
   "metadata": {
    "slideshow": {
     "slide_type": "-"
    }
   },
   "source": [
    "Observability toward the coalescent horizon\n",
    "==\n",
    "Spectral analysis of the $\\mathcal{L}(\\eta)$ operator"
   ]
  },
  {
   "cell_type": "code",
   "execution_count": null,
   "metadata": {
    "slideshow": {
     "slide_type": "slide"
    }
   },
   "outputs": [],
   "source": [
    "import mushi\n",
    "from mushi import utils\n",
    "\n",
    "import numpy as np\n",
    "import matplotlib as mpl\n",
    "from matplotlib import pyplot as plt\n",
    "import pandas as pd\n",
    "import seaborn as sns\n",
    "from numpy.linalg import svd"
   ]
  },
  {
   "cell_type": "code",
   "execution_count": null,
   "metadata": {},
   "outputs": [],
   "source": [
    "# enable latex in plots\n",
    "mpl.rc('text', usetex=True)\n",
    "mpl.rcParams['text.latex.preamble']=[r\"\\usepackage{amsmath}\"]"
   ]
  },
  {
   "cell_type": "markdown",
   "metadata": {
    "slideshow": {
     "slide_type": "slide"
    }
   },
   "source": [
    "## Define a simple bottleneck demography $\\eta(t)$"
   ]
  },
  {
   "cell_type": "code",
   "execution_count": null,
   "metadata": {},
   "outputs": [],
   "source": [
    "# time grid\n",
    "t = np.concatenate(([0], np.logspace(0, 5, 1000), [np.inf]))\n",
    "# η(t) values in each epoch\n",
    "y = 1e4 * np.ones(len(t) - 1)\n",
    "y[np.less(1000, t[:-1]) & np.less(t[:-1], 3000)] = 1e3\n",
    "# histories object\n",
    "eta = mushi.eta(t[1:-1], y)\n",
    "\n",
    "plt.figure(figsize=(3.5, 3.5))\n",
    "eta.plot()\n",
    "plt.show()"
   ]
  },
  {
   "cell_type": "markdown",
   "metadata": {
    "slideshow": {
     "slide_type": "slide"
    }
   },
   "source": [
    "## Singular value spectrum of $\\mathbf{L}(\\mathbf y)$ with $n=200$"
   ]
  },
  {
   "cell_type": "code",
   "execution_count": null,
   "metadata": {},
   "outputs": [],
   "source": [
    "n = 200\n",
    "L = utils.C(n) @ utils.M(n, t, y)\n",
    "U, σ, Vh = svd(L, full_matrices=False)"
   ]
  },
  {
   "cell_type": "markdown",
   "metadata": {
    "slideshow": {
     "slide_type": "slide"
    }
   },
   "source": [
    "Top few right singular vectors"
   ]
  },
  {
   "cell_type": "code",
   "execution_count": null,
   "metadata": {
    "slideshow": {
     "slide_type": "-"
    }
   },
   "outputs": [],
   "source": [
    "df = pd.DataFrame(Vh.T, index=pd.Index(t[:-1], name='time'))\n",
    "df = df.melt().set_index('variable')\n",
    "df['singular value'] = σ[df.index]\n",
    "df['$t$ (generations ago)'] = np.tile(t[:-1], df.index[-1] + 1)\n",
    "\n",
    "# filter to top few singular values\n",
    "keep = 20\n",
    "df = df[(df.index % 1 == 0) & (df.index < keep)]\n",
    "\n",
    "palette = sns.color_palette(\"coolwarm\", n_colors=df['singular value'].nunique())"
   ]
  },
  {
   "cell_type": "code",
   "execution_count": null,
   "metadata": {
    "slideshow": {
     "slide_type": "fragment"
    }
   },
   "outputs": [],
   "source": [
    "x = np.arange(1, min(n, eta.m + 1))\n",
    "plt.figure(figsize=(3, 1.9))\n",
    "plt.scatter(x[:keep], σ[:keep], c=palette, edgecolors='k', linewidths=.5, s=20)\n",
    "plt.plot(x[keep:], σ[keep:], 'ko', ms=5, mfc='none', mew=.1)\n",
    "plt.xscale('log')\n",
    "plt.yscale('log')\n",
    "plt.xlabel('singular value rank')\n",
    "plt.ylabel('singular value')\n",
    "plt.tight_layout()\n",
    "plt.show()"
   ]
  },
  {
   "cell_type": "markdown",
   "metadata": {},
   "source": [
    "## Eigenfunction amplitudes"
   ]
  },
  {
   "cell_type": "code",
   "execution_count": null,
   "metadata": {},
   "outputs": [],
   "source": [
    "fig, axes = plt.subplots(nrows=2, ncols=1, sharex='col', figsize=(4.5, 5.5), gridspec_kw={'height_ratios': [1, 3]})\n",
    "plt.sca(axes[0])\n",
    "eta.plot(lw=3, alpha=0.75)\n",
    "plt.tick_params(axis='y', labelcolor='C0')\n",
    "plt.xlabel('')\n",
    "ax2 = axes[0].twinx()\n",
    "plt.sca(ax2)\n",
    "plt.plot(eta.change_points, mushi.kSFS(n=n).tmrca_cdf(eta), color='C1', lw=3, alpha=0.75)\n",
    "plt.ylim([0, 1])\n",
    "plt.ylabel('TMRCA CDF')\n",
    "plt.tick_params(axis='y', labelcolor='C1')\n",
    "plt.sca(axes[1])\n",
    "ax = sns.lineplot(x=r'$t$ (generations ago)', y='value', hue='singular value', units='singular value',\n",
    "                  data=df, estimator=None,\n",
    "                  palette=palette[::-1],\n",
    "                  legend=False, alpha=.75, lw=1)\n",
    "plt.ylabel(r'$\\mathcal{L}(\\eta)$ singular vector amplitude')\n",
    "plt.xscale('log')\n",
    "plt.ylim([-.2, .2])\n",
    "plt.tight_layout()\n",
    "plt.show()"
   ]
  }
 ],
 "metadata": {
  "celltoolbar": "Slideshow",
  "kernelspec": {
   "display_name": "Python 3",
   "language": "python",
   "name": "python3"
  },
  "language_info": {
   "codemirror_mode": {
    "name": "ipython",
    "version": 3
   },
   "file_extension": ".py",
   "mimetype": "text/x-python",
   "name": "python",
   "nbconvert_exporter": "python",
   "pygments_lexer": "ipython3",
   "version": "3.7.6"
  }
 },
 "nbformat": 4,
 "nbformat_minor": 2
}
